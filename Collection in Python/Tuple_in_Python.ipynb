{
 "cells": [
  {
   "cell_type": "markdown",
   "id": "52e9d4af",
   "metadata": {},
   "source": [
    "# Create Tuple"
   ]
  },
  {
   "cell_type": "code",
   "execution_count": 1,
   "id": "f109cf40",
   "metadata": {},
   "outputs": [
    {
     "name": "stdout",
     "output_type": "stream",
     "text": [
      "Current tuple:  ('Apple', 'Orange', 'Cherry', 1, 2, 3, 4, 5, 10.5, 12.5, 4)\n"
     ]
    }
   ],
   "source": [
    "# creating a tuple\n",
    "\n",
    "# contains string, float values, integer values\n",
    "t1 = (\"Apple\", \"Orange\", \"Cherry\", 1,2,3,4,5,10.5, 12.5,4)\n",
    "\n",
    "print(\"Current tuple: \", t1)\n"
   ]
  },
  {
   "cell_type": "markdown",
   "id": "7e0de5b4",
   "metadata": {},
   "source": [
    "# How to check length of tuple?\n"
   ]
  },
  {
   "cell_type": "code",
   "execution_count": 3,
   "id": "dad18524",
   "metadata": {},
   "outputs": [
    {
     "name": "stdout",
     "output_type": "stream",
     "text": [
      "Size of tuple t2:  7\n"
     ]
    }
   ],
   "source": [
    "t2 = (1,2,3,4,5,6,7)\n",
    "\n",
    "# checking the length of tuple t2\n",
    "\n",
    "print(\"Size of tuple t2: \",len(t2))"
   ]
  },
  {
   "cell_type": "markdown",
   "id": "7587b4ec",
   "metadata": {},
   "source": [
    "# Indexing / Slicing"
   ]
  },
  {
   "cell_type": "code",
   "execution_count": 9,
   "id": "ba2f1afb",
   "metadata": {},
   "outputs": [
    {
     "name": "stdout",
     "output_type": "stream",
     "text": [
      "Current tuple:  ('Apple', 'Orange', 'Cherry', 1, 2, 3, 4, 5, 10.5, 12.5, 4)\n",
      "Index 1 Value:  Orange\n",
      "Index between 1 to 6:  ('Orange', 'Cherry', 1, 2, 3)\n",
      "Lat value:  4\n",
      "Values till index 6:  ('Apple', 'Orange', 'Cherry', 1, 2, 3)\n"
     ]
    }
   ],
   "source": [
    "t1 = (\"Apple\", \"Orange\", \"Cherry\", 1,2,3,4,5,10.5, 12.5,4)\n",
    "\n",
    "print(\"Current tuple: \", t1)\n",
    "\n",
    "# Accessing the value by using index\n",
    "\n",
    "print(\"Index 1 Value: \", t1[1])\n",
    "\n",
    "# Accessing the value between index 1 to 6\n",
    "\n",
    "print(\"Index between 1 to 6: \", t1[1:6])\n",
    "\n",
    "# Accessing the last value\n",
    "\n",
    "print(\"Lat value: \", t1[-1])\n",
    "\n",
    "# Access the value till index 6\n",
    "\n",
    "print(\"Values till index 6: \", t1[:6])"
   ]
  },
  {
   "cell_type": "markdown",
   "id": "5abb1dc6",
   "metadata": {},
   "source": [
    "# Convert tuple into list"
   ]
  },
  {
   "cell_type": "code",
   "execution_count": 11,
   "id": "ffb776ca",
   "metadata": {},
   "outputs": [
    {
     "name": "stdout",
     "output_type": "stream",
     "text": [
      "Current Tuple:  ('Apple', 'Orange', 'Cherry', 1, 2, 3, 4, 5, 10.5, 12.5, 4)\n",
      "After converting:  ['Apple', 'Orange', 'Cherry', 1, 2, 3, 4, 5, 10.5, 12.5, 4]\n"
     ]
    }
   ],
   "source": [
    "t1 = (\"Apple\", \"Orange\", \"Cherry\", 1,2,3,4,5,10.5, 12.5,4)\n",
    "# before change\n",
    "print(\"Current Tuple: \", t1)\n",
    "\n",
    "x = list(t1) # converting tuple into a list.\n",
    "print(\"After converting: \", x)"
   ]
  },
  {
   "cell_type": "markdown",
   "id": "aa3b7cac",
   "metadata": {},
   "source": [
    "# Tuple constructor"
   ]
  },
  {
   "cell_type": "code",
   "execution_count": 12,
   "id": "a7a31c69",
   "metadata": {},
   "outputs": [
    {
     "name": "stdout",
     "output_type": "stream",
     "text": [
      "('Apple', 'Mango', 'Cherry')\n"
     ]
    }
   ],
   "source": [
    "# note the double round brackets to create tuple using constructor.\n",
    "\n",
    "t3 = tuple((\"Apple\", \"Mango\", \"Cherry\"))\n",
    "print(t3)"
   ]
  },
  {
   "cell_type": "markdown",
   "id": "7faaef97",
   "metadata": {},
   "source": [
    "# Add item after converting tuple into list. "
   ]
  },
  {
   "cell_type": "code",
   "execution_count": 17,
   "id": "1d20d950",
   "metadata": {},
   "outputs": [
    {
     "name": "stdout",
     "output_type": "stream",
     "text": [
      "Current tuple:  ('Apple', 'Orange', 'Cherry', 'Mango')\n",
      "<class 'tuple'>\n",
      "['Apple', 'Orange', 'Cherry', 'Mango']\n",
      "<class 'list'>\n",
      "Updated List:  ['Apple', 'Kiwi', 'Cherry', 'Mango']\n",
      "Updated Tuple:  ('Apple', 'Kiwi', 'Cherry', 'Mango')\n"
     ]
    }
   ],
   "source": [
    "t4 = (\"Apple\", \"Orange\", \"Cherry\", \"Mango\")\n",
    "#before converting\n",
    "print(\"Current tuple: \", t4)\n",
    "print(type(t4)) # to know the class of t4\n",
    "\n",
    "x = list(t4)\n",
    "# after converting\n",
    "print(x)\n",
    "print(type(x))\n",
    "\n",
    "# Add item into list\n",
    "\n",
    "x[1] = \"Kiwi\"\n",
    "print(\"Updated List: \", x)\n",
    "\n",
    "# Converting list back to tuple\n",
    "\n",
    "y = tuple(x) # using constructor \n",
    "print(\"Updated Tuple: \", y)"
   ]
  },
  {
   "cell_type": "markdown",
   "id": "8342f4a6",
   "metadata": {},
   "source": [
    "# Loops with tuples"
   ]
  },
  {
   "cell_type": "code",
   "execution_count": 18,
   "id": "dbe3befc",
   "metadata": {},
   "outputs": [
    {
     "name": "stdout",
     "output_type": "stream",
     "text": [
      "Apple\n",
      "Mango\n",
      "Orange\n",
      "Kiwi\n"
     ]
    }
   ],
   "source": [
    "# For loop with tuple\n",
    "\n",
    "t5 = (\"Apple\", \"Mango\", \"Orange\", \"Kiwi\")\n",
    "for i in t5:\n",
    "    print(i)"
   ]
  },
  {
   "cell_type": "code",
   "execution_count": 20,
   "id": "d713d2de",
   "metadata": {},
   "outputs": [
    {
     "name": "stdout",
     "output_type": "stream",
     "text": [
      "Apple\n",
      "Mango\n",
      "Orange\n",
      "Kiwi\n",
      "Loop finished\n"
     ]
    }
   ],
   "source": [
    "# while loop with tuple\n",
    "\n",
    "t5 = (\"Apple\", \"Mango\", \"Orange\", \"Kiwi\")\n",
    "i = 0\n",
    "\n",
    "while i<len(t5):\n",
    "    print(t5[i])\n",
    "    i=i+1\n",
    "else:\n",
    "    print(\"Loop finished\")"
   ]
  },
  {
   "cell_type": "markdown",
   "id": "da66e721",
   "metadata": {},
   "source": [
    "# How to compare tuples"
   ]
  },
  {
   "cell_type": "code",
   "execution_count": 23,
   "id": "299179a3",
   "metadata": {},
   "outputs": [
    {
     "name": "stdout",
     "output_type": "stream",
     "text": [
      "False\n",
      "True\n",
      "False\n"
     ]
    }
   ],
   "source": [
    "tuple1 = (1,2,3)\n",
    "tuple2 = (1,2,4)\n",
    "\n",
    "# tuple1 is equal to tuple2\n",
    "\n",
    "print(tuple1 == tuple2)\n",
    "\n",
    "# tuple1 is less than tuple2\n",
    "\n",
    "print(tuple1<tuple2) # value 4 in tuple3 is greater than 3 in tuple1\n",
    "\n",
    "# tuple1 is greater than tuple2\n",
    "\n",
    "print(tuple1>tuple2)"
   ]
  }
 ],
 "metadata": {
  "kernelspec": {
   "display_name": "Python 3 (ipykernel)",
   "language": "python",
   "name": "python3"
  },
  "language_info": {
   "codemirror_mode": {
    "name": "ipython",
    "version": 3
   },
   "file_extension": ".py",
   "mimetype": "text/x-python",
   "name": "python",
   "nbconvert_exporter": "python",
   "pygments_lexer": "ipython3",
   "version": "3.10.8"
  }
 },
 "nbformat": 4,
 "nbformat_minor": 5
}
