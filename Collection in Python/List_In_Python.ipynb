{
 "cells": [
  {
   "cell_type": "markdown",
   "id": "cba3c522",
   "metadata": {},
   "source": [
    "# Creating a list"
   ]
  },
  {
   "cell_type": "code",
   "execution_count": 3,
   "id": "8d0717ee",
   "metadata": {},
   "outputs": [
    {
     "name": "stdout",
     "output_type": "stream",
     "text": [
      "Integer List:  [1, 2, 3, 4, 5, 6]\n",
      "String List:  ['Apple', 'Mango', 'Orange']\n"
     ]
    }
   ],
   "source": [
    "# this list stores te integer values\n",
    "l1 = [1,2,3,4,5,6]\n",
    "\n",
    "# this list stores the string  values.\n",
    "l2 = ['Apple', 'Mango', 'Orange']\n",
    "\n",
    "print(\"Integer List: \", l1)\n",
    "print(\"String List: \", l2)"
   ]
  },
  {
   "cell_type": "markdown",
   "id": "d2acd0c1",
   "metadata": {},
   "source": [
    "# Duplicate values in List"
   ]
  },
  {
   "cell_type": "code",
   "execution_count": 4,
   "id": "00121e5d",
   "metadata": {},
   "outputs": [
    {
     "name": "stdout",
     "output_type": "stream",
     "text": [
      "Duplicate List:  [1, 2, 3, 4, 5, 6, 1, 2, 3]\n"
     ]
    }
   ],
   "source": [
    "l1 = [1,2,3,4,5,6,1,2,3]\n",
    "print(\"Duplicate List: \", l1)"
   ]
  },
  {
   "cell_type": "markdown",
   "id": "3d161342",
   "metadata": {},
   "source": [
    "# List constructor"
   ]
  },
  {
   "cell_type": "code",
   "execution_count": 5,
   "id": "6892f8e2",
   "metadata": {},
   "outputs": [
    {
     "name": "stdout",
     "output_type": "stream",
     "text": [
      "['Apple', 'Mango', 'Orange']\n"
     ]
    }
   ],
   "source": [
    "l1 = list((\"Apple\", \"Mango\", \"Orange\")) # note that the are double brackets.\n",
    "print(l1)"
   ]
  },
  {
   "cell_type": "markdown",
   "id": "3d9f749e",
   "metadata": {},
   "source": [
    "# List Slicing"
   ]
  },
  {
   "cell_type": "code",
   "execution_count": 9,
   "id": "7e96c45c",
   "metadata": {},
   "outputs": [
    {
     "name": "stdout",
     "output_type": "stream",
     "text": [
      "Current values in list:  [1, 2, 3, 4, 5, 6, 7, 8, 9]\n",
      "Index 1 value:  2\n",
      "Index between 1 to 6:  [2, 3, 4, 5, 6]\n",
      "Index till 6:  [1, 2, 3, 4, 5, 6]\n",
      "Last value:  9\n"
     ]
    }
   ],
   "source": [
    "l1 = [1,2,3,4,5,6,7,8,9]\n",
    "print(\"Current values in list: \", l1)\n",
    "\n",
    "#Access the values of index 1\n",
    "\n",
    "print(\"Index 1 value: \", l1[1])\n",
    "\n",
    "#Access the values between 1 to 6\n",
    "print(\"Index between 1 to 6: \",l1[1:6])\n",
    "\n",
    "#Access the values till index 6\n",
    "print(\"Index till 6: \", l1[:6])\n",
    "\n",
    "#Access the last value from list\n",
    "print(\"Last value: \", l1[-1])"
   ]
  },
  {
   "cell_type": "markdown",
   "id": "503b7d96",
   "metadata": {},
   "source": [
    "# To change list items. "
   ]
  },
  {
   "cell_type": "code",
   "execution_count": 11,
   "id": "809f8c2d",
   "metadata": {},
   "outputs": [
    {
     "name": "stdout",
     "output_type": "stream",
     "text": [
      "Curren List items:  ['Apple', 'Banana', 'Cherry', 'Mango', 'Orange', 'Kiwi']\n",
      "Updated list:  ['Apple', 'Grapes', 'Watermelon', 'Mango', 'Orange', 'Kiwi']\n"
     ]
    }
   ],
   "source": [
    "fruit = [\"Apple\", \"Banana\", \"Cherry\", \"Mango\", \"Orange\", \"Kiwi\"]\n",
    "print(\"Curren List items: \", fruit)\n",
    "\n",
    "# Change or update the item in list \"fruit\"\n",
    "\n",
    "fruit[1:3] = [\"Grapes\", \"Watermelon\"]\n",
    "print(\"Updated list: \", fruit)\n",
    "\n"
   ]
  },
  {
   "cell_type": "markdown",
   "id": "7471a0b5",
   "metadata": {},
   "source": [
    "# Insert into list"
   ]
  },
  {
   "cell_type": "code",
   "execution_count": 12,
   "id": "b0dd7845",
   "metadata": {},
   "outputs": [
    {
     "name": "stdout",
     "output_type": "stream",
     "text": [
      "Current List:  [1, 2, 3, 4, 5]\n",
      "Updated list:  [1, 2, 'Python', 3, 4, 5]\n"
     ]
    }
   ],
   "source": [
    "l1 = [1,2,3,4,5]\n",
    "print(\"Current List: \", l1)\n",
    "\n",
    "# updating the list using insert method.\n",
    "l1.insert(2,\"Python\") # insert(index, item)\n",
    "\n",
    "print(\"Updated list: \", l1)"
   ]
  },
  {
   "cell_type": "markdown",
   "id": "1a06041a",
   "metadata": {},
   "source": [
    "# Extend the list"
   ]
  },
  {
   "cell_type": "code",
   "execution_count": 13,
   "id": "73c8fb51",
   "metadata": {},
   "outputs": [
    {
     "name": "stdout",
     "output_type": "stream",
     "text": [
      "[1, 2, 3, 4, 5, 'A', 'B', 'C', 'D', 'E']\n"
     ]
    }
   ],
   "source": [
    "l1 = [1,2,3,4,5]\n",
    "l2 = ['A', 'B', 'C','D','E']\n",
    "\n",
    "# Extending the list l1 with l2\n",
    "l1.extend(l2)\n",
    "\n",
    "print(l1)\n"
   ]
  },
  {
   "cell_type": "markdown",
   "id": "44626889",
   "metadata": {},
   "source": [
    "# Remove Items from list"
   ]
  },
  {
   "cell_type": "code",
   "execution_count": 16,
   "id": "d168eae5",
   "metadata": {},
   "outputs": [
    {
     "name": "stdout",
     "output_type": "stream",
     "text": [
      "Current List:  [1, 2, 3, 4, 5, 6, 7, 8]\n",
      "Updated list:  [1, 2, 4, 5, 6, 7, 8]\n"
     ]
    }
   ],
   "source": [
    "# remove() - This methods is used to remove elements from list\n",
    "\n",
    "l1 = [1,2,3,4,5,6,7,8]\n",
    "\n",
    "print(\"Current List: \", l1)\n",
    "\n",
    "l1.remove(3)\n",
    "\n",
    "print(\"Updated list: \", l1)"
   ]
  },
  {
   "cell_type": "code",
   "execution_count": 17,
   "id": "2728cebe",
   "metadata": {},
   "outputs": [
    {
     "name": "stdout",
     "output_type": "stream",
     "text": [
      "Current List:  [1, 2, 3, 4, 5, 6, 7, 8]\n",
      "Updated list:  [1, 2, 3, 4, 5, 6, 7]\n"
     ]
    }
   ],
   "source": [
    "# pop() - This method is used to remove the last element from list\n",
    "\n",
    "l1 = [1,2,3,4,5,6,7,8]\n",
    "\n",
    "print(\"Current List: \", l1)\n",
    "\n",
    "# Remove item using pop method\n",
    "\n",
    "l1.pop()\n",
    "\n",
    "print(\"Updated list: \", l1)"
   ]
  },
  {
   "cell_type": "code",
   "execution_count": 18,
   "id": "5dd83310",
   "metadata": {},
   "outputs": [
    {
     "name": "stdout",
     "output_type": "stream",
     "text": [
      "Current List:  [1, 2, 3, 4, 5, 6, 7, 8]\n",
      "Updated list:  [1, 2, 4, 5, 6, 7, 8]\n"
     ]
    }
   ],
   "source": [
    "# del() - This method is used to remove the item at the mentioned index from list\n",
    "\n",
    "l1 = [1,2,3,4,5,6,7,8]\n",
    "\n",
    "print(\"Current List: \", l1)\n",
    "\n",
    "# Remove item using del method\n",
    "\n",
    "del l1[2] # will remove 3 from the list\n",
    "\n",
    "print(\"Updated list: \", l1)"
   ]
  },
  {
   "cell_type": "code",
   "execution_count": 19,
   "id": "706df475",
   "metadata": {},
   "outputs": [
    {
     "name": "stdout",
     "output_type": "stream",
     "text": [
      "Current List:  [1, 2, 3, 4, 5, 6, 7, 8]\n",
      "Update list:  []\n"
     ]
    }
   ],
   "source": [
    "# clear() - This method is used to clear the list\n",
    "\n",
    "l1 = [1,2,3,4,5,6,7,8]\n",
    "\n",
    "print(\"Current List: \", l1)\n",
    "\n",
    "# Remove item using clear method\n",
    "\n",
    "l1.clear()\n",
    "\n",
    "print(\"Update list: \", l1)"
   ]
  }
 ],
 "metadata": {
  "kernelspec": {
   "display_name": "Python 3 (ipykernel)",
   "language": "python",
   "name": "python3"
  },
  "language_info": {
   "codemirror_mode": {
    "name": "ipython",
    "version": 3
   },
   "file_extension": ".py",
   "mimetype": "text/x-python",
   "name": "python",
   "nbconvert_exporter": "python",
   "pygments_lexer": "ipython3",
   "version": "3.10.8"
  }
 },
 "nbformat": 4,
 "nbformat_minor": 5
}
