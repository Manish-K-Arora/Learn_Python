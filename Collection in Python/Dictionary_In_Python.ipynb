{
 "cells": [
  {
   "cell_type": "markdown",
   "id": "f4be7b9e",
   "metadata": {},
   "source": [
    "# Creating a dictionary"
   ]
  },
  {
   "cell_type": "code",
   "execution_count": 2,
   "id": "58e9ec7c",
   "metadata": {},
   "outputs": [
    {
     "name": "stdout",
     "output_type": "stream",
     "text": [
      "{1: 'Apple', 2: 'Mango', 3: 'Orange', 4: 'Apple', 'A': 'B'}\n",
      "<class 'dict'>\n"
     ]
    }
   ],
   "source": [
    "d1 = {1:\"Apple\", 2:\"Mango\", 3:\"Orange\", 4:\"Apple\", 'A':'B'}\n",
    "print(d1)\n",
    "\n",
    "# Datatype of dictionary\n",
    "\n",
    "print(type(d1))"
   ]
  },
  {
   "cell_type": "markdown",
   "id": "9eff2063",
   "metadata": {},
   "source": [
    "# List into Dictionary"
   ]
  },
  {
   "cell_type": "code",
   "execution_count": 4,
   "id": "b5d45fb1",
   "metadata": {},
   "outputs": [
    {
     "name": "stdout",
     "output_type": "stream",
     "text": [
      "{1: 'Python', 2: 'Java', 'Fruit': ['Apple', 'Orange', 'Mango']}\n"
     ]
    }
   ],
   "source": [
    "# Storing a list into Dictionary on a single key\n",
    "d2 = {1:\"Python\",2:\"Java\",\"Fruit\": [\"Apple\",\"Orange\",\"Mango\"]} # key - fruit is  a dictionary\n",
    "print(d2)"
   ]
  },
  {
   "cell_type": "markdown",
   "id": "bfdf924f",
   "metadata": {},
   "source": [
    "# Tuple into Dictionary"
   ]
  },
  {
   "cell_type": "code",
   "execution_count": 5,
   "id": "158743f9",
   "metadata": {},
   "outputs": [
    {
     "name": "stdout",
     "output_type": "stream",
     "text": [
      "{1: 'Python', 2: 'Java', 'Language': ('Java', 'Python', 'C++')}\n"
     ]
    }
   ],
   "source": [
    "# Storing a tuple into a dictionary on a single key\n",
    "d3 = {1:\"Python\", 2:\"Java\", \"Language\": (\"Java\", \"Python\", \"C++\")} # Key-Language is a tuple\n",
    "print(d3)"
   ]
  },
  {
   "cell_type": "markdown",
   "id": "adfcdd14",
   "metadata": {},
   "source": [
    "# Access the value of dictionary"
   ]
  },
  {
   "cell_type": "code",
   "execution_count": 22,
   "id": "662dc1ef",
   "metadata": {},
   "outputs": [
    {
     "name": "stdout",
     "output_type": "stream",
     "text": [
      "Current Dictionary:  {1: 'Apple', 2: 'Mango', 3: 'Orange', 4: 'Apple', 'A': 'B'}\n",
      "Orange\n",
      "Apple\n",
      "dict_items([(1, 'Apple'), (2, 'Mango'), (3, 'Orange'), (4, 'Apple'), ('A', 'B')])\n",
      "Keys:  dict_keys([1, 2, 3, 4, 'A'])\n",
      "Values:  dict_values(['Apple', 'Mango', 'Orange', 'Apple', 'B'])\n"
     ]
    }
   ],
   "source": [
    "d1 = {1:\"Apple\", 2:\"Mango\", 3:\"Orange\", 4:\"Apple\", 'A':'B'}\n",
    "\n",
    "print(\"Current Dictionary: \",d1)\n",
    "\n",
    "# Access the value using key\n",
    "x = d1[3]\n",
    "print(x)\n",
    "\n",
    "# Access the value using get method\n",
    "\n",
    "y = d1.get(1)\n",
    "print(y)\n",
    "\n",
    "# Access the values using item method.\n",
    "\n",
    "z = d1.items()\n",
    "print(z)\n",
    "\n",
    "# Access only keys from dictionary\n",
    "\n",
    "k = d1.keys() # will print the keys in dicitionary using key()\n",
    "print(\"Keys: \",k)\n",
    "\n",
    "# Access only values from dictionary\n",
    "\n",
    "v = d1.values() # will print the keys in dictionary using value()\n",
    "print(\"Values: \", v)"
   ]
  },
  {
   "cell_type": "markdown",
   "id": "0de78e58",
   "metadata": {},
   "source": [
    "# Change the value"
   ]
  },
  {
   "cell_type": "code",
   "execution_count": 10,
   "id": "010cf24a",
   "metadata": {},
   "outputs": [
    {
     "name": "stdout",
     "output_type": "stream",
     "text": [
      "Updated Dictionary:  {1: 'Apple', 2: 'Mango', 3: 'Kiwi', 4: 'Apple', 'A': 'B'}\n"
     ]
    }
   ],
   "source": [
    "d1 = {1:\"Apple\", 2:\"Mango\", 3:\"Orange\", 4:\"Apple\", 'A':'B'}\n",
    "d1[3] = \"Kiwi\"\n",
    "print(\"Updated Dictionary: \", d1)"
   ]
  },
  {
   "cell_type": "code",
   "execution_count": 12,
   "id": "5c8bc4cf",
   "metadata": {},
   "outputs": [
    {
     "name": "stdout",
     "output_type": "stream",
     "text": [
      "Current Dictionary:  {1: 'Apple', 2: 'Mango', 3: 'Kiwi', 4: 'Apple', 'A': 'B'}\n",
      "Updated Dictionary:  {1: 'Apple', 2: 'Banana', 3: 'Kiwi', 4: 'Apple', 'A': 'B'}\n"
     ]
    }
   ],
   "source": [
    "# Update dictionary by using update method\n",
    "\n",
    "print(\"Current Dictionary: \", d1)\n",
    "\n",
    "# update dictionary by using update method\n",
    "d1.update({2:\"Banana\"})\n",
    "print(\"Updated Dictionary: \", d1)"
   ]
  },
  {
   "cell_type": "markdown",
   "id": "591ea5d1",
   "metadata": {},
   "source": [
    "# Remove value from dictionary"
   ]
  },
  {
   "cell_type": "code",
   "execution_count": 19,
   "id": "6f5d09c1",
   "metadata": {},
   "outputs": [
    {
     "name": "stdout",
     "output_type": "stream",
     "text": [
      "Current Dictionary:  {1: 'Apple', 2: 'Mango', 3: 'Orange', 4: 'Apple', 'A': 'B'}\n",
      "Updated Dictionary:  {1: 'Apple', 3: 'Orange', 4: 'Apple', 'A': 'B'}\n",
      "Updated Dictionary:  {1: 'Apple', 3: 'Orange', 4: 'Apple'}\n",
      "Updated Dictionary:  {3: 'Orange', 4: 'Apple'}\n",
      "Updated Dictionary:  {}\n"
     ]
    }
   ],
   "source": [
    "# Using pop()\n",
    "\n",
    "d1 = {1:\"Apple\", 2:\"Mango\", 3:\"Orange\", 4:\"Apple\", 'A':'B'}\n",
    "print(\"Current Dictionary: \", d1)\n",
    "\n",
    "d1.pop(2) # will remove the key 2 and its value | used to remove particular value\n",
    "print(\"Updated Dictionary: \", d1)\n",
    "\n",
    "# using popitem\n",
    "d1.popitem() # used when last item need to remove in dictionary\n",
    "print(\"Updated Dictionary: \",d1)\n",
    "\n",
    "# using del()\n",
    "\n",
    "del d1[1] # delete the particular key and value from dictionary.\n",
    "print(\"Updated Dictionary: \",d1)\n",
    "\n",
    "# using clear()\n",
    "\n",
    "d1.clear() # clear all the key and values from the dictionary.\n",
    "print(\"Updated Dictionary: \", d1)"
   ]
  }
 ],
 "metadata": {
  "kernelspec": {
   "display_name": "Python 3 (ipykernel)",
   "language": "python",
   "name": "python3"
  },
  "language_info": {
   "codemirror_mode": {
    "name": "ipython",
    "version": 3
   },
   "file_extension": ".py",
   "mimetype": "text/x-python",
   "name": "python",
   "nbconvert_exporter": "python",
   "pygments_lexer": "ipython3",
   "version": "3.10.8"
  }
 },
 "nbformat": 4,
 "nbformat_minor": 5
}
