{
 "cells": [
  {
   "cell_type": "code",
   "execution_count": 1,
   "id": "35ca60d5",
   "metadata": {},
   "outputs": [
    {
     "name": "stdout",
     "output_type": "stream",
     "text": [
      "The first whitespace:  2\n"
     ]
    }
   ],
   "source": [
    "#import re module first. \n",
    "\n",
    "import re\n",
    "txt = \"we are learning python\"\n",
    "x = re.search(\"\\s\", txt) # this expression is written for searching whitespace. \n",
    "print(\"The first whitespace: \", x.start())"
   ]
  },
  {
   "cell_type": "code",
   "execution_count": 12,
   "id": "65b4a809",
   "metadata": {},
   "outputs": [
    {
     "name": "stdout",
     "output_type": "stream",
     "text": [
      "['Hello', 'hello', 'hello', '']\n"
     ]
    }
   ],
   "source": [
    "import re \n",
    "c = re.split('\\W+', 'Hello, hello, hello.')\n",
    "print(c)"
   ]
  }
 ],
 "metadata": {
  "kernelspec": {
   "display_name": "Python 3 (ipykernel)",
   "language": "python",
   "name": "python3"
  },
  "language_info": {
   "codemirror_mode": {
    "name": "ipython",
    "version": 3
   },
   "file_extension": ".py",
   "mimetype": "text/x-python",
   "name": "python",
   "nbconvert_exporter": "python",
   "pygments_lexer": "ipython3",
   "version": "3.10.8"
  }
 },
 "nbformat": 4,
 "nbformat_minor": 5
}
