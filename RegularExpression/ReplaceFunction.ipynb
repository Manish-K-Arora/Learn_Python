{
 "cells": [
  {
   "cell_type": "code",
   "execution_count": 2,
   "id": "239befc0",
   "metadata": {},
   "outputs": [
    {
     "name": "stdout",
     "output_type": "stream",
     "text": [
      "Before Replace:  Learn for free through online content\n",
      "After Replace:  Learn anything free through online content\n"
     ]
    }
   ],
   "source": [
    "import re\n",
    "\n",
    "str1 = \"Learn for free through online content\"\n",
    "print(\"Before Replace: \", str1)\n",
    "\n",
    "# After replace the \"for\" anything\n",
    "result = re.sub(r\"for\",\"anything\",str1)\n",
    "print(\"After Replace: \", result)"
   ]
  },
  {
   "cell_type": "code",
   "execution_count": 4,
   "id": "15e8a247",
   "metadata": {},
   "outputs": [
    {
     "name": "stdout",
     "output_type": "stream",
     "text": [
      "Before Replace:  Free Online Training\n",
      "After Replace:  F000 O00000 T0000000\n"
     ]
    }
   ],
   "source": [
    "import re \n",
    "str1 = \"Free Online Training\"\n",
    "\n",
    "print(\"Before Replace: \", str1)\n",
    "\n",
    "#replace all the small letters in a string with number 0\n",
    "\n",
    "\n",
    "result = re.sub(r\"[a-z]\",\"0\", str1)\n",
    "print(\"After Replace: \", result)"
   ]
  }
 ],
 "metadata": {
  "kernelspec": {
   "display_name": "Python 3 (ipykernel)",
   "language": "python",
   "name": "python3"
  },
  "language_info": {
   "codemirror_mode": {
    "name": "ipython",
    "version": 3
   },
   "file_extension": ".py",
   "mimetype": "text/x-python",
   "name": "python",
   "nbconvert_exporter": "python",
   "pygments_lexer": "ipython3",
   "version": "3.10.8"
  }
 },
 "nbformat": 4,
 "nbformat_minor": 5
}
