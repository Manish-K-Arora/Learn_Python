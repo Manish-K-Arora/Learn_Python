{
 "cells": [
  {
   "cell_type": "code",
   "execution_count": 1,
   "metadata": {
    "colab": {
     "base_uri": "https://localhost:8080/"
    },
    "id": "zLtRYgvHKIWE",
    "outputId": "5a31c7a5-d2bb-4345-e5ef-156970c5fd74"
   },
   "outputs": [
    {
     "name": "stdout",
     "output_type": "stream",
     "text": [
      "<re.Match object; span=(0, 3), match='abc'>\n"
     ]
    }
   ],
   "source": [
    "#import re module first.\n",
    "\n",
    "import re\n",
    "\n",
    "pattern = r\"^abc\"\n",
    "mystring = \"abcdef\"\n",
    "\n",
    "x = re.match(pattern, mystring)\n",
    "print(x)"
   ]
  },
  {
   "cell_type": "code",
   "execution_count": 2,
   "metadata": {
    "colab": {
     "base_uri": "https://localhost:8080/"
    },
    "id": "uReYysnOMpGT",
    "outputId": "563760de-ff5b-4541-cc50-7d56532d7ea3"
   },
   "outputs": [
    {
     "name": "stdout",
     "output_type": "stream",
     "text": [
      "<re.Match object; span=(0, 4), match='abcd'>\n"
     ]
    }
   ],
   "source": [
    "#import re module first.\n",
    "\n",
    "import re\n",
    "\n",
    "pattern = r\"^abcd\"\n",
    "mystring = \"abcdef\"\n",
    "\n",
    "x = re.match(pattern, mystring)\n",
    "print(x)"
   ]
  },
  {
   "cell_type": "code",
   "execution_count": 3,
   "metadata": {
    "colab": {
     "base_uri": "https://localhost:8080/"
    },
    "id": "-NAIlseWMrkU",
    "outputId": "2afba2c2-9950-4cd4-c624-77e0920826fe"
   },
   "outputs": [
    {
     "name": "stdout",
     "output_type": "stream",
     "text": [
      "None\n"
     ]
    }
   ],
   "source": [
    "#import re module first.\n",
    "\n",
    "import re\n",
    "\n",
    "pattern = r\"^aebc\"\n",
    "mystring = \"abcdef\"\n",
    "\n",
    "x = re.match(pattern, mystring)\n",
    "print(x)"
   ]
  }
 ],
 "metadata": {
  "colab": {
   "provenance": []
  },
  "kernelspec": {
   "display_name": "Python 3 (ipykernel)",
   "language": "python",
   "name": "python3"
  },
  "language_info": {
   "codemirror_mode": {
    "name": "ipython",
    "version": 3
   },
   "file_extension": ".py",
   "mimetype": "text/x-python",
   "name": "python",
   "nbconvert_exporter": "python",
   "pygments_lexer": "ipython3",
   "version": "3.10.8"
  }
 },
 "nbformat": 4,
 "nbformat_minor": 1
}
