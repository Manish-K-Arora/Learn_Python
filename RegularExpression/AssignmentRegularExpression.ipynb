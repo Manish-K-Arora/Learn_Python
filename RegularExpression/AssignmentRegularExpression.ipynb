{
 "cells": [
  {
   "cell_type": "markdown",
   "id": "2ddc1a4f",
   "metadata": {},
   "source": [
    "# 1) Write a program to check that a string contain only a certain set of characters(in this case a-z,A-Z,0-9)"
   ]
  },
  {
   "cell_type": "code",
   "execution_count": 51,
   "id": "479e16f8",
   "metadata": {},
   "outputs": [
    {
     "name": "stdout",
     "output_type": "stream",
     "text": [
      "'abcDEF092' -> True\n"
     ]
    }
   ],
   "source": [
    "import re\n",
    "\n",
    "\n",
    "#string to test\n",
    "str1 = [\"abcDEF092\"]\n",
    "\n",
    "#allowed character patterns\n",
    "p = re.compile(r\"^[a-zA-Z0-9]*$\")\n",
    "\n",
    "#iterate the string to check the pattern\n",
    "for i in str1:\n",
    "    if p.match(i):\n",
    "        print(f\"'{i}' -> True\")\n",
    "    else:\n",
    "        print(f\"'{i}' -> False\")"
   ]
  },
  {
   "cell_type": "markdown",
   "id": "5efb80cd",
   "metadata": {},
   "source": [
    "# 2) Write a program that matches a word at the beginning of a string."
   ]
  },
  {
   "cell_type": "code",
   "execution_count": 48,
   "id": "81eb8ac7",
   "metadata": {},
   "outputs": [
    {
     "name": "stdout",
     "output_type": "stream",
     "text": [
      "<re.Match object; span=(0, 4), match='3105'>\n",
      "None\n"
     ]
    }
   ],
   "source": [
    "import re\n",
    "\n",
    "pattern = r\"^\\w+\"\n",
    "str2 = \"3105 numbers at the beginning\"\n",
    "str3 = \" abc\"\n",
    "\n",
    "x = re.match(pattern,str2) #return 3105\n",
    "y = re.match(pattern,str3) #empty space return None\n",
    "print(x)\n",
    "print(y)"
   ]
  },
  {
   "cell_type": "markdown",
   "id": "1e6a733a",
   "metadata": {},
   "source": [
    "# 3) Write a program to match a string that contains only upper & lowercase letters\n"
   ]
  },
  {
   "cell_type": "code",
   "execution_count": 98,
   "id": "fb496efc",
   "metadata": {},
   "outputs": [
    {
     "name": "stdout",
     "output_type": "stream",
     "text": [
      "'letsGO!': False\n",
      "'letsGO': True\n"
     ]
    }
   ],
   "source": [
    "import re\n",
    "\n",
    "str4 = [\"letsGO!\", \"letsGO\"]\n",
    "\n",
    "\n",
    "p = r\"^[a-zA-Z]+$\"\n",
    "\n",
    "for s in str4:\n",
    "    # Use re.match to check if the entire string matches the pattern\n",
    "    if re.match(p, s):\n",
    "        print(f\"'{s}': True\")\n",
    "    else:\n",
    "        print(f\"'{s}': False\")"
   ]
  },
  {
   "cell_type": "markdown",
   "id": "9ecbb228",
   "metadata": {},
   "source": [
    "# 4) Write a program to replace a word from the string."
   ]
  },
  {
   "cell_type": "code",
   "execution_count": 100,
   "id": "973286f6",
   "metadata": {},
   "outputs": [
    {
     "name": "stdout",
     "output_type": "stream",
     "text": [
      "Before replace:  Hello World\n",
      "After Replace:  Hello Universe\n",
      "After replace second method:  Hello Atlas\n"
     ]
    }
   ],
   "source": [
    "import re\n",
    "str6 = \"Hello World\"\n",
    "\n",
    "print(\"Before replace: \", str6)\n",
    "\n",
    "result = str6.replace(\"World\", \"Universe\")\n",
    "print(\"After Replace: \", result)\n",
    "\n",
    "# ------- second method ------------\n",
    "\n",
    "result2 = re.sub(r\"World\", \"Atlas\", str6)\n",
    "print(\"After replace second method: \", result2)"
   ]
  },
  {
   "cell_type": "markdown",
   "id": "f7034bd9",
   "metadata": {},
   "source": [
    "# 5 )Write a program to search the number (0-9) of length between 1 to 3 in a string"
   ]
  },
  {
   "cell_type": "code",
   "execution_count": 106,
   "id": "35d1bfb1",
   "metadata": {},
   "outputs": [
    {
     "name": "stdout",
     "output_type": "stream",
     "text": [
      "Original String: Password is one 2 two 33 three 444 and four 5555\n",
      "Found Numbers: ['2', '33', '444']\n"
     ]
    }
   ],
   "source": [
    "import re\n",
    "\n",
    "# Example string\n",
    "str7 = \"Password is one 2 two 33 three 444 and four 5555\"\n",
    "\n",
    "# Regular expression pattern to match numbers of length 1 to 3\n",
    "pattern = r'\\b\\d{1,3}\\b'\n",
    "\n",
    "# Find all matches in the input string\n",
    "m4 = re.findall(pattern, str7)\n",
    "\n",
    "# Print the results\n",
    "print(\"Original String:\", str7)\n",
    "print(\"Found Numbers:\", m4)\n"
   ]
  }
 ],
 "metadata": {
  "kernelspec": {
   "display_name": "Python 3 (ipykernel)",
   "language": "python",
   "name": "python3"
  },
  "language_info": {
   "codemirror_mode": {
    "name": "ipython",
    "version": 3
   },
   "file_extension": ".py",
   "mimetype": "text/x-python",
   "name": "python",
   "nbconvert_exporter": "python",
   "pygments_lexer": "ipython3",
   "version": "3.10.8"
  }
 },
 "nbformat": 4,
 "nbformat_minor": 5
}
